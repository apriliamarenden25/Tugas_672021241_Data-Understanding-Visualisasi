{
  "nbformat": 4,
  "nbformat_minor": 0,
  "metadata": {
    "colab": {
      "provenance": []
    },
    "kernelspec": {
      "name": "python3",
      "display_name": "Python 3"
    },
    "language_info": {
      "name": "python"
    }
  },
  "cells": [
    {
      "cell_type": "code",
      "execution_count": 2,
      "metadata": {
        "id": "FzD_R1-yKUJX"
      },
      "outputs": [],
      "source": [
        "from sklearn import datasets\n",
        "iris = datasets.load_iris()\n",
        "X = iris.data\n",
        "y = iris.target"
      ]
    },
    {
      "cell_type": "code",
      "source": [
        "#PEMBAGIAN DATASET 70%, 30%\n",
        "from sklearn.model_selection import train_test_split\n",
        "\n",
        "X_train, X_test, y_train, y_test = train_test_split(X, y, train_size = 0.7)"
      ],
      "metadata": {
        "id": "dLzYu-OjKtl2"
      },
      "execution_count": 3,
      "outputs": []
    },
    {
      "cell_type": "code",
      "source": [
        "print(\"Banyaknya data X yang di training:\", len(X_train))\n",
        "print(\"Banyaknya data X yang di testing:\", len(X_test))"
      ],
      "metadata": {
        "colab": {
          "base_uri": "https://localhost:8080/"
        },
        "id": "QM2jMg54LrGN",
        "outputId": "3ea0178a-60fb-4342-c690-e7235d6a7f23"
      },
      "execution_count": 4,
      "outputs": [
        {
          "output_type": "stream",
          "name": "stdout",
          "text": [
            "Banyaknya data X yang di training: 105\n",
            "Banyaknya data X yang di testing: 45\n"
          ]
        }
      ]
    },
    {
      "cell_type": "markdown",
      "source": [
        "##KLASIFIKASI"
      ],
      "metadata": {
        "id": "zSd0D2qrLxjx"
      }
    },
    {
      "cell_type": "code",
      "source": [
        "#KNN\n",
        "from sklearn.neighbors import KNeighborsClassifier\n",
        "from sklearn import metrics\n",
        "\n",
        "knn = KNeighborsClassifier()\n",
        "knn.fit(X_train, y_train)\n",
        "y_pred = knn.predict(X_test)\n",
        "score_knn = metrics.accuracy_score(y_test, y_pred)\n",
        "\n",
        "print(\"Akurasi dengan menggunakan Nearst Neighbor: \", score_knn)"
      ],
      "metadata": {
        "colab": {
          "base_uri": "https://localhost:8080/"
        },
        "id": "dk8iOO0nLvS2",
        "outputId": "ba9cba57-f9b6-4548-f531-94eedd27b391"
      },
      "execution_count": 13,
      "outputs": [
        {
          "output_type": "stream",
          "name": "stdout",
          "text": [
            "Akurasi dengan menggunakan Nearst Neighbor:  0.9555555555555556\n"
          ]
        }
      ]
    },
    {
      "cell_type": "code",
      "source": [
        "#DECISION TREE\n",
        "from sklearn.tree import DecisionTreeClassifier\n",
        "\n",
        "dt = DecisionTreeClassifier(\n",
        "    max_depth=4,\n",
        "    min_samples_split = 2\n",
        ")\n",
        "\n",
        "dt.fit(X_train, y_train)\n",
        "y_pred = dt.predict(X_test)\n",
        "score_dt = metrics.accuracy_score(y_test, y_pred)\n",
        "print(\"Akurasi dengan menggunakan Decision Tree:\", score_dt)"
      ],
      "metadata": {
        "colab": {
          "base_uri": "https://localhost:8080/"
        },
        "id": "4s6kPZi9MuRM",
        "outputId": "64463e62-7b84-46c0-f32a-a95d8bd76018"
      },
      "execution_count": 18,
      "outputs": [
        {
          "output_type": "stream",
          "name": "stdout",
          "text": [
            "Akurasi dengan menggunakan Decision Tree: 0.9111111111111111\n"
          ]
        }
      ]
    },
    {
      "cell_type": "code",
      "source": [
        "#NAIVE BAYES\n",
        "from sklearn import naive_bayes\n",
        "from sklearn import metrics\n",
        "\n",
        "nb = naive_bayes.BernoulliNB()\n",
        "\n",
        "nb.fit(X_train, y_train)\n",
        "y_pred = nb.predict(X_test)\n",
        "score_nb = metrics.accuracy_score(y_test, y_pred)\n",
        "print(\"Akurasi dengan menggunakan Naive Bayes: \", score_nb)"
      ],
      "metadata": {
        "colab": {
          "base_uri": "https://localhost:8080/"
        },
        "id": "XKH5btRANbX_",
        "outputId": "b1a9e6be-494f-4b86-c782-b7de165f154e"
      },
      "execution_count": 15,
      "outputs": [
        {
          "output_type": "stream",
          "name": "stdout",
          "text": [
            "Akurasi dengan menggunakan Naive Bayes:  0.24444444444444444\n"
          ]
        }
      ]
    },
    {
      "cell_type": "code",
      "source": [
        "#SVM\n",
        "from sklearn.svm import SVC\n",
        "from sklearn import metrics\n",
        "\n",
        "svm = SVC(kernel = 'linear', C = 1)\n",
        "#svm = SVC(kernel = 'poly', C = 1, gamma = 0.01, degree = 2)\n",
        "#svm = SVC(kernel = 'rbf', C = 1, gamma = 0.01)\n",
        "\n",
        "svm.fit(X_train, y_train)\n",
        "y_pred = svm.predict(X_test)\n",
        "score_svm_linear = metrics.accuracy_score(y_test, y_pred)\n",
        "print(\"Akurasi dengan menggunakan Naive Bayes: \", score_svm_linear)"
      ],
      "metadata": {
        "colab": {
          "base_uri": "https://localhost:8080/"
        },
        "id": "EgX3l3ydNvWZ",
        "outputId": "5a181620-bf4a-4100-b350-1521edf7acdc"
      },
      "execution_count": 20,
      "outputs": [
        {
          "output_type": "stream",
          "name": "stdout",
          "text": [
            "Akurasi dengan menggunakan Naive Bayes:  0.9555555555555556\n"
          ]
        }
      ]
    },
    {
      "cell_type": "markdown",
      "source": [
        "##ADABOOST"
      ],
      "metadata": {
        "id": "IZ8qnvthOP3Y"
      }
    },
    {
      "cell_type": "code",
      "source": [
        "from sklearn.ensemble import AdaBoostClassifier\n",
        "from sklearn import metrics\n",
        "\n",
        "ab = AdaBoostClassifier(n_estimators = 50, learning_rate = 1)\n",
        "\n",
        "ab.fit(X_train, y_train)\n",
        "y_pred = ab.predict(X_test)\n",
        "score_ab = metrics.accuracy_score(y_test, y_pred)\n",
        "print(\"Akurasi dengan menggunakan Naive Bayes: \", score_ab)"
      ],
      "metadata": {
        "colab": {
          "base_uri": "https://localhost:8080/"
        },
        "id": "qJJ15Hb5ORon",
        "outputId": "8506f3a4-d236-40a2-a410-1c6c4146ce0a"
      },
      "execution_count": 21,
      "outputs": [
        {
          "output_type": "stream",
          "name": "stdout",
          "text": [
            "Akurasi dengan menggunakan Naive Bayes:  0.9333333333333333\n"
          ]
        }
      ]
    },
    {
      "cell_type": "code",
      "source": [
        "#PERBANDINGAN AKURASI MODEL KLASIFIKASI DENGAN ALGORITMA ADABOOST\n",
        "print(\"\\nPerbandingan Akurasi:\")\n",
        "print(\"KNN          : \", score_knn)\n",
        "print(\"Decision Tree: \", score_dt)\n",
        "print(\"Naive Bayes  : \", score_nb)\n",
        "print(\"SVM Linear   : \", score_svm_linear)\n",
        "print(\"AdaBoost     : \", score_ab)"
      ],
      "metadata": {
        "colab": {
          "base_uri": "https://localhost:8080/"
        },
        "id": "3eF-3p4uOTp1",
        "outputId": "1c6f5fb0-9c56-4505-afbd-b97cd1aeb016"
      },
      "execution_count": 24,
      "outputs": [
        {
          "output_type": "stream",
          "name": "stdout",
          "text": [
            "\n",
            "Perbandingan Akurasi:\n",
            "KNN          :  0.9555555555555556\n",
            "Decision Tree:  0.9111111111111111\n",
            "Naive Bayes  :  0.24444444444444444\n",
            "SVM Linear   :  0.9555555555555556\n",
            "AdaBoost     :  0.9333333333333333\n"
          ]
        }
      ]
    },
    {
      "cell_type": "markdown",
      "source": [
        "Dari analisis perbandingan model klasifikasi KNN, Decision Tree, Naive Bayes, SVM, dan AdaBoost dapat dilihat bahwa dengan menggunakan dataset iris dan pembagian datasetnya 70%:30% didapatkan akurasi yang paling tinggi yaitu KNN dan SVM, dan untuk nilai akurasi yang paling rendah yaitu Naive Bayes."
      ],
      "metadata": {
        "id": "Txl40dzGSfVD"
      }
    }
  ]
}